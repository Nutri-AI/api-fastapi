{
 "cells": [
  {
   "cell_type": "code",
   "execution_count": 1,
   "metadata": {},
   "outputs": [],
   "source": [
    "food_dict = {\"food_list\": [\n",
    "    {\n",
    "      \"SK\": \"FOOD#불고기피자\"\n",
    "    },\n",
    "    {\n",
    "      \"SK\": \"FOOD#치즈피자\"\n",
    "    },\n",
    "    {\n",
    "      \"SK\": \"FOOD#콤비네이션피자\"\n",
    "    },\n",
    "    {\n",
    "      \"SK\": \"FOOD#페퍼로니피자\"\n",
    "    },\n",
    "    {\n",
    "      \"SK\": \"FOOD#포테이토피자\"\n",
    "    }\n",
    "  ]\n",
    "}\n"
   ]
  },
  {
   "cell_type": "code",
   "execution_count": 2,
   "metadata": {},
   "outputs": [
    {
     "data": {
      "text/plain": [
       "[{'SK': 'FOOD#불고기피자'},\n",
       " {'SK': 'FOOD#치즈피자'},\n",
       " {'SK': 'FOOD#콤비네이션피자'},\n",
       " {'SK': 'FOOD#페퍼로니피자'},\n",
       " {'SK': 'FOOD#포테이토피자'}]"
      ]
     },
     "execution_count": 2,
     "metadata": {},
     "output_type": "execute_result"
    }
   ],
   "source": [
    "food_dict['food_list']"
   ]
  },
  {
   "cell_type": "code",
   "execution_count": 6,
   "metadata": {},
   "outputs": [
    {
     "data": {
      "text/plain": [
       "['불고기피자', '치즈피자', '콤비네이션피자', '페퍼로니피자', '포테이토피자']"
      ]
     },
     "execution_count": 6,
     "metadata": {},
     "output_type": "execute_result"
    }
   ],
   "source": [
    "[i['SK'][5:] for i in food_dict['food_list']]"
   ]
  },
  {
   "cell_type": "code",
   "execution_count": 8,
   "metadata": {},
   "outputs": [],
   "source": [
    "a=['감자', '나물', '김치', '생강']\n",
    "b= [0,1,3]"
   ]
  },
  {
   "cell_type": "code",
   "execution_count": 10,
   "metadata": {},
   "outputs": [
    {
     "ename": "TypeError",
     "evalue": "list indices must be integers or slices, not list",
     "output_type": "error",
     "traceback": [
      "\u001b[0;31m---------------------------------------------------------------------------\u001b[0m",
      "\u001b[0;31mTypeError\u001b[0m                                 Traceback (most recent call last)",
      "\u001b[1;32m/Users/hyeop/github/api-fastapi/food_list.ipynb Cell 5'\u001b[0m in \u001b[0;36m<cell line: 1>\u001b[0;34m()\u001b[0m\n\u001b[0;32m----> <a href='vscode-notebook-cell:/Users/hyeop/github/api-fastapi/food_list.ipynb#ch0000004?line=0'>1</a>\u001b[0m [a][b]\n",
      "\u001b[0;31mTypeError\u001b[0m: list indices must be integers or slices, not list"
     ]
    }
   ],
   "source": [
    "[a][b]"
   ]
  }
 ],
 "metadata": {
  "interpreter": {
   "hash": "b0fa6594d8f4cbf19f97940f81e996739fb7646882a419484c72d19e05852a7e"
  },
  "kernelspec": {
   "display_name": "Python 3.9.10 64-bit",
   "language": "python",
   "name": "python3"
  },
  "language_info": {
   "codemirror_mode": {
    "name": "ipython",
    "version": 3
   },
   "file_extension": ".py",
   "mimetype": "text/x-python",
   "name": "python",
   "nbconvert_exporter": "python",
   "pygments_lexer": "ipython3",
   "version": "3.9.10"
  },
  "orig_nbformat": 4
 },
 "nbformat": 4,
 "nbformat_minor": 2
}
