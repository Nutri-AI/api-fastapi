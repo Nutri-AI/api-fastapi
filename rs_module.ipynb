{
 "cells": [
  {
   "cell_type": "code",
   "execution_count": 1,
   "metadata": {},
   "outputs": [],
   "source": [
    "import numpy as np\n",
    "import pandas as pd\n",
    "from glob import glob\n",
    "from decimal import Decimal\n",
    "from os.path import join\n",
    "from sklearn.metrics.pairwise import cosine_similarity"
   ]
  },
  {
   "cell_type": "code",
   "execution_count": 2,
   "metadata": {},
   "outputs": [],
   "source": [
    "test_user_RDI = {\n",
    "   'Vitamin_B12': Decimal('2.4'),\n",
    "   'Calcium': Decimal('800'),\n",
    "   'Iron': Decimal('10'),\n",
    "   'Leucine': Decimal('3100'),\n",
    "   'Histidine': Decimal('1000'),\n",
    "   'Phenylalanine+Tyrosine': Decimal('3600'),\n",
    "   'Carbohydrate': Decimal('248'),\n",
    "   'Magnesium': Decimal('360'),\n",
    "   'Selenium': Decimal('60'),\n",
    "   'Copper': Decimal('850'),\n",
    "   'Alpha_Linolenic_Acid': Decimal('1.6'),\n",
    "   'Threonine': Decimal('1500'),\n",
    "   'Linoleic_Acid': Decimal('13'),\n",
    "   'Methionine': Decimal('1400'),\n",
    "   'Phosphorus': Decimal('700'),\n",
    "   'Niacin': Decimal('16'),\n",
    "   'Zinc': Decimal('10'),\n",
    "   'Calories': Decimal('1655'),\n",
    "   'Protein': Decimal('70'),\n",
    "   'Sodium': Decimal('1500'),\n",
    "   'Vitamin_D': Decimal('10'),\n",
    "   'Vitamin_C': Decimal('100'),\n",
    "   'Lysine': Decimal('3100'),\n",
    "   'Valine': Decimal('1700'),\n",
    "   'Vitamin_A': Decimal('800'),\n",
    "   'Fat': Decimal('42'),\n",
    "   'Folic_acid': Decimal('400'),\n",
    "   'Dietary_Fiber': Decimal('30'),\n",
    "   'Vitamin_E': Decimal('12'),\n",
    "   'Vitamin_B6': Decimal('1.5'),\n",
    "   'Potassium': Decimal('3500'),\n",
    "   'Vitamin_K': Decimal('75'),\n",
    "   'Iso_Leucine': Decimal('1400'),\n",
    "   'Manganese': Decimal('4')\n",
    "    }"
   ]
  },
  {
   "cell_type": "code",
   "execution_count": 3,
   "metadata": {},
   "outputs": [],
   "source": [
    "test_user_intake = {\n",
    "    'Vitamin_B12': Decimal('3.8'),\n",
    "    'Calcium': Decimal('277.2'),\n",
    "    'Iron': Decimal('9.4'),\n",
    "    'Leucine': Decimal('4352.6'),\n",
    "    'Histidine': Decimal('1599.2'),\n",
    "    'Phenylalanine+Tyrosine': Decimal('3694.2'),\n",
    "    'Carbohydrate': Decimal('169.6'),\n",
    "    'Magnesium': Decimal('162'),\n",
    "    'Selenium': Decimal('72.6'),\n",
    "    'Copper': Decimal('1'),\n",
    "    'Threonine': Decimal('2486'),\n",
    "    'Alpha_Linolenic_Acid': Decimal('1'),\n",
    "    'Methionine': Decimal('830.6'),\n",
    "    'Linoleic_Acid': Decimal('11.4'),\n",
    "    'Phosphorus': Decimal('711.8'),\n",
    "    'Calories': Decimal('1284'),\n",
    "    'Protein': Decimal('60'),\n",
    "    'Zinc': Decimal('18.8'),\n",
    "    'Cholesterol': Decimal('380.4'),\n",
    "    'Sodium': Decimal('2086.4'),\n",
    "    'Vitamin_C': Decimal('18.2'),\n",
    "    'Lysine': Decimal('3878.2'),\n",
    "    'Valine': Decimal('2809.2'),\n",
    "    'Vitamin_A': Decimal('7018.8'),\n",
    "    'Fat': Decimal('38'),\n",
    "    'Folic_acid': Decimal('365.4'),\n",
    "    'Dietary_Fiber': Decimal('18'),\n",
    "    'Potassium': Decimal('1618.2'),\n",
    "    'Iso_Leucine': Decimal('2320.4'),\n",
    "    'Manganese': Decimal('3.2')\n",
    "    }"
   ]
  },
  {
   "cell_type": "code",
   "execution_count": 146,
   "metadata": {},
   "outputs": [],
   "source": [
    "def recommendation_system(UserRdi, UserIntake, Category):\n",
    "    BASE_DIR= ''\n",
    "    data_path= join(BASE_DIR, f'{Category}.csv')\n",
    "    sr_rdi= pd.Series(UserRdi,\n",
    "            dtype= float).drop(['Calories', 'Folic_acid', 'Carbohydrate', 'Protein', 'Fat'])\n",
    "    sr_intake= pd.Series(UserIntake, index= sr_rdi.index, dtype= float)\n",
    "    sr_diff= sr_rdi- sr_intake\n",
    "    sr_diff.fillna(0, inplace= True)\n",
    "    sr_diff_ratio= pd.Series((sr_diff/ sr_rdi), dtype= float, name= 'user_diff')\n",
    "    sr_diff_ratio.fillna(0, inplace= True)\n",
    "    std_cols= sr_diff_ratio.index\n",
    "    data= pd.read_csv(data_path, index_col= 'prod_cd')\n",
    "    df= pd.DataFrame(data, columns= std_cols, dtype= float).fillna(0)\n",
    "    df_ratio= (df/ sr_rdi)\n",
    "    SSE= df_ratio.apply(lambda row: np.sum((row- sr_diff_ratio)**2), axis= 1)\n",
    "\n",
    "    ratio_top3= SSE.sort_values(ascending= True)[:3]\n",
    "\n",
    "    df_cosine= df_ratio.append(sr_diff_ratio)\n",
    "    df_cosine['similarity']= cosine_similarity(df_cosine, df_cosine)[:,-1]\n",
    "    similarity_top3= df_cosine.sort_values(by= 'similarity', ascending= False)[1:4]\n",
    "\n",
    "    return sr_diff, sr_diff_ratio, df, df_ratio, ratio_top3, similarity_top3\n"
   ]
  },
  {
   "cell_type": "code",
   "execution_count": 147,
   "metadata": {},
   "outputs": [
    {
     "name": "stderr",
     "output_type": "stream",
     "text": [
      "/var/folders/pr/phpb7l1s675c1wqrhj9jc4lh0000gn/T/ipykernel_3926/2706372605.py:19: FutureWarning: The frame.append method is deprecated and will be removed from pandas in a future version. Use pandas.concat instead.\n",
      "  df_cosine= df_ratio.append(sr_diff_ratio)\n"
     ]
    }
   ],
   "source": [
    "diff_val, diff_ratio, m_nutri, m_nutri_ratio, m_ratio_top3, m_similarity_top3= \\\n",
    "                    recommendation_system(test_user_RDI, test_user_intake, 'minerals')"
   ]
  },
  {
   "cell_type": "code",
   "execution_count": 148,
   "metadata": {},
   "outputs": [
    {
     "name": "stderr",
     "output_type": "stream",
     "text": [
      "/var/folders/pr/phpb7l1s675c1wqrhj9jc4lh0000gn/T/ipykernel_3926/2706372605.py:19: FutureWarning: The frame.append method is deprecated and will be removed from pandas in a future version. Use pandas.concat instead.\n",
      "  df_cosine= df_ratio.append(sr_diff_ratio)\n"
     ]
    }
   ],
   "source": [
    "diff_val, diff_ratio, v_nutri, v_nutri_ratio, v_ratio_top3, v_similarity_top3= \\\n",
    "                    recommendation_system(test_user_RDI, test_user_intake, 'vitamins')"
   ]
  },
  {
   "cell_type": "code",
   "execution_count": 149,
   "metadata": {},
   "outputs": [
    {
     "name": "stderr",
     "output_type": "stream",
     "text": [
      "/var/folders/pr/phpb7l1s675c1wqrhj9jc4lh0000gn/T/ipykernel_3926/2706372605.py:19: FutureWarning: The frame.append method is deprecated and will be removed from pandas in a future version. Use pandas.concat instead.\n",
      "  df_cosine= df_ratio.append(sr_diff_ratio)\n"
     ]
    }
   ],
   "source": [
    "diff_val, diff_ratio, a_nutri, a_nutri_ratio, a_ratio_top3, a_similarity_top3= \\\n",
    "                    recommendation_system(test_user_RDI, test_user_intake, 'amino-acids')"
   ]
  },
  {
   "cell_type": "markdown",
   "metadata": {},
   "source": [
    "### 사용자 difference( rdi- intake )"
   ]
  },
  {
   "cell_type": "code",
   "execution_count": 150,
   "metadata": {},
   "outputs": [
    {
     "data": {
      "text/plain": [
       "Potassium               1881.8\n",
       "Copper                   849.0\n",
       "Methionine               569.4\n",
       "Calcium                  522.8\n",
       "Magnesium                198.0\n",
       "Vitamin_C                 81.8\n",
       "Dietary_Fiber             12.0\n",
       "Linoleic_Acid              1.6\n",
       "Manganese                  0.8\n",
       "Alpha_Linolenic_Acid       0.6\n",
       "Iron                       0.6\n",
       "dtype: float64"
      ]
     },
     "execution_count": 150,
     "metadata": {},
     "output_type": "execute_result"
    }
   ],
   "source": [
    "diff_val[diff_val> 0].sort_values(ascending= False)"
   ]
  },
  {
   "cell_type": "markdown",
   "metadata": {},
   "source": [
    "### 사용자 difference 비율 (difference/ rdi)"
   ]
  },
  {
   "cell_type": "code",
   "execution_count": 151,
   "metadata": {},
   "outputs": [
    {
     "data": {
      "text/plain": [
       "Copper                  0.998824\n",
       "Vitamin_C               0.818000\n",
       "Calcium                 0.653500\n",
       "Magnesium               0.550000\n",
       "Potassium               0.537657\n",
       "Methionine              0.406714\n",
       "Dietary_Fiber           0.400000\n",
       "Alpha_Linolenic_Acid    0.375000\n",
       "Manganese               0.200000\n",
       "Linoleic_Acid           0.123077\n",
       "Iron                    0.060000\n",
       "Name: user_diff, dtype: float64"
      ]
     },
     "execution_count": 151,
     "metadata": {},
     "output_type": "execute_result"
    }
   ],
   "source": [
    "diff_ratio[diff_ratio> 0].sort_values(ascending= False)"
   ]
  },
  {
   "cell_type": "markdown",
   "metadata": {},
   "source": [
    "## 미네랄 -> 비타민 -> 아미노산"
   ]
  },
  {
   "cell_type": "markdown",
   "metadata": {},
   "source": [
    "### 선별 (SSE, Cosine Similarity)"
   ]
  },
  {
   "cell_type": "markdown",
   "metadata": {},
   "source": [
    "#### 미네랄"
   ]
  },
  {
   "cell_type": "code",
   "execution_count": 152,
   "metadata": {},
   "outputs": [
    {
     "data": {
      "text/plain": [
       "prod_cd\n",
       "CAT-02554    65.661707\n",
       "AOR-08333    65.961025\n",
       "RLT-10102    66.065480\n",
       "dtype: float64"
      ]
     },
     "execution_count": 152,
     "metadata": {},
     "output_type": "execute_result"
    }
   ],
   "source": [
    "m_ratio_top3"
   ]
  },
  {
   "cell_type": "code",
   "execution_count": 153,
   "metadata": {},
   "outputs": [
    {
     "data": {
      "text/plain": [
       "Calcium      0.900000\n",
       "Vitamin_C    0.900000\n",
       "Magnesium    0.147222\n",
       "Sodium       0.006667\n",
       "Name: CAT-02554, dtype: float64"
      ]
     },
     "execution_count": 153,
     "metadata": {},
     "output_type": "execute_result"
    }
   ],
   "source": [
    "m_nutri_ratio.loc['CAT-02554'][m_nutri_ratio.loc['CAT-02554']> 0].sort_values(ascending= False)"
   ]
  },
  {
   "cell_type": "code",
   "execution_count": 154,
   "metadata": {},
   "outputs": [
    {
     "data": {
      "text/plain": [
       "Calcium      720.0\n",
       "Vitamin_C     90.0\n",
       "Magnesium     53.0\n",
       "Sodium        10.0\n",
       "Name: CAT-02554, dtype: float64"
      ]
     },
     "execution_count": 154,
     "metadata": {},
     "output_type": "execute_result"
    }
   ],
   "source": [
    "m_nutri.loc['CAT-02554'][m_nutri.loc['CAT-02554']> 0].sort_values(ascending= False)"
   ]
  },
  {
   "cell_type": "code",
   "execution_count": 155,
   "metadata": {},
   "outputs": [
    {
     "data": {
      "text/plain": [
       "Vitamin_C    1.000000\n",
       "Magnesium    0.277778\n",
       "Name: AOR-08333, dtype: float64"
      ]
     },
     "execution_count": 155,
     "metadata": {},
     "output_type": "execute_result"
    }
   ],
   "source": [
    "m_nutri_ratio.loc['AOR-08333'][m_nutri_ratio.loc['AOR-08333']> 0].sort_values(ascending= False)"
   ]
  },
  {
   "cell_type": "code",
   "execution_count": 156,
   "metadata": {},
   "outputs": [
    {
     "data": {
      "text/plain": [
       "Magnesium    100.0\n",
       "Vitamin_C    100.0\n",
       "Name: AOR-08333, dtype: float64"
      ]
     },
     "execution_count": 156,
     "metadata": {},
     "output_type": "execute_result"
    }
   ],
   "source": [
    "m_nutri.loc['AOR-08333'][m_nutri.loc['AOR-08333']> 0].sort_values(ascending= False)"
   ]
  },
  {
   "cell_type": "code",
   "execution_count": 157,
   "metadata": {},
   "outputs": [
    {
     "data": {
      "text/plain": [
       "Magnesium     0.891667\n",
       "Vitamin_C     0.670000\n",
       "Vitamin_B6    0.466667\n",
       "Vitamin_D     0.330000\n",
       "Calcium       0.208750\n",
       "Manganese     0.075000\n",
       "Name: RLT-10102, dtype: float64"
      ]
     },
     "execution_count": 157,
     "metadata": {},
     "output_type": "execute_result"
    }
   ],
   "source": [
    "m_nutri_ratio.loc['RLT-10102'][m_nutri_ratio.loc['RLT-10102']> 0].sort_values(ascending= False)"
   ]
  },
  {
   "cell_type": "code",
   "execution_count": 158,
   "metadata": {},
   "outputs": [
    {
     "data": {
      "text/plain": [
       "Magnesium     321.0\n",
       "Calcium       167.0\n",
       "Vitamin_C      67.0\n",
       "Vitamin_D       3.3\n",
       "Vitamin_B6      0.7\n",
       "Manganese       0.3\n",
       "Name: RLT-10102, dtype: float64"
      ]
     },
     "execution_count": 158,
     "metadata": {},
     "output_type": "execute_result"
    }
   ],
   "source": [
    "m_nutri.loc['RLT-10102'][m_nutri.loc['RLT-10102']> 0].sort_values(ascending= False)"
   ]
  },
  {
   "cell_type": "code",
   "execution_count": 159,
   "metadata": {},
   "outputs": [
    {
     "data": {
      "text/plain": [
       "prod_cd\n",
       "CAT-02554    0.133921\n",
       "PTG-00098    0.123637\n",
       "PTG-04354    0.123637\n",
       "Name: similarity, dtype: float64"
      ]
     },
     "execution_count": 159,
     "metadata": {},
     "output_type": "execute_result"
    }
   ],
   "source": [
    "m_similarity_top3['similarity']"
   ]
  },
  {
   "cell_type": "code",
   "execution_count": 160,
   "metadata": {},
   "outputs": [
    {
     "data": {
      "text/plain": [
       "Vitamin_C    2.900000\n",
       "Magnesium    0.972222\n",
       "Calcium      0.287500\n",
       "Vitamin_D    0.200000\n",
       "Potassium    0.031429\n",
       "Name: PTG-00098, dtype: float64"
      ]
     },
     "execution_count": 160,
     "metadata": {},
     "output_type": "execute_result"
    }
   ],
   "source": [
    "m_nutri_ratio.loc['PTG-00098'][m_nutri_ratio.loc['PTG-00098']> 0].sort_values(ascending= False)"
   ]
  },
  {
   "cell_type": "code",
   "execution_count": 161,
   "metadata": {},
   "outputs": [
    {
     "data": {
      "text/plain": [
       "Magnesium    350.0\n",
       "Vitamin_C    290.0\n",
       "Calcium      230.0\n",
       "Potassium    110.0\n",
       "Vitamin_D      2.0\n",
       "Name: PTG-00098, dtype: float64"
      ]
     },
     "execution_count": 161,
     "metadata": {},
     "output_type": "execute_result"
    }
   ],
   "source": [
    "m_nutri.loc['PTG-00098'][m_nutri.loc['PTG-00098']> 0].sort_values(ascending= False)"
   ]
  },
  {
   "cell_type": "code",
   "execution_count": 162,
   "metadata": {},
   "outputs": [
    {
     "data": {
      "text/plain": [
       "Vitamin_C    2.900000\n",
       "Magnesium    0.972222\n",
       "Calcium      0.287500\n",
       "Vitamin_D    0.200000\n",
       "Potassium    0.031429\n",
       "Name: PTG-04354, dtype: float64"
      ]
     },
     "execution_count": 162,
     "metadata": {},
     "output_type": "execute_result"
    }
   ],
   "source": [
    "m_nutri_ratio.loc['PTG-04354'][m_nutri_ratio.loc['PTG-04354']> 0].sort_values(ascending= False)"
   ]
  },
  {
   "cell_type": "code",
   "execution_count": 163,
   "metadata": {},
   "outputs": [
    {
     "data": {
      "text/plain": [
       "Magnesium    350.0\n",
       "Vitamin_C    290.0\n",
       "Calcium      230.0\n",
       "Potassium    110.0\n",
       "Vitamin_D      2.0\n",
       "Name: PTG-04354, dtype: float64"
      ]
     },
     "execution_count": 163,
     "metadata": {},
     "output_type": "execute_result"
    }
   ],
   "source": [
    "m_nutri.loc['PTG-04354'][m_nutri.loc['PTG-04354']> 0].sort_values(ascending= False)"
   ]
  },
  {
   "cell_type": "markdown",
   "metadata": {},
   "source": [
    "#### 비타민"
   ]
  },
  {
   "cell_type": "code",
   "execution_count": 164,
   "metadata": {},
   "outputs": [
    {
     "data": {
      "text/plain": [
       "prod_cd\n",
       "SOR-04420    66.039178\n",
       "SOR-04421    66.039178\n",
       "MRO-47134    66.163020\n",
       "dtype: float64"
      ]
     },
     "execution_count": 164,
     "metadata": {},
     "output_type": "execute_result"
    }
   ],
   "source": [
    "v_ratio_top3"
   ]
  },
  {
   "cell_type": "code",
   "execution_count": 165,
   "metadata": {},
   "outputs": [
    {
     "data": {
      "text/plain": [
       "Vitamin_C    0.950000\n",
       "Magnesium    0.102778\n",
       "Calcium      0.025000\n",
       "Name: SOR-04420, dtype: float64"
      ]
     },
     "execution_count": 165,
     "metadata": {},
     "output_type": "execute_result"
    }
   ],
   "source": [
    "v_nutri_ratio.loc['SOR-04420'][v_nutri_ratio.loc['SOR-04420']> 0].sort_values(ascending= False)"
   ]
  },
  {
   "cell_type": "code",
   "execution_count": 166,
   "metadata": {},
   "outputs": [
    {
     "data": {
      "text/plain": [
       "Vitamin_C    95.0\n",
       "Magnesium    37.0\n",
       "Calcium      20.0\n",
       "Name: SOR-04420, dtype: float64"
      ]
     },
     "execution_count": 166,
     "metadata": {},
     "output_type": "execute_result"
    }
   ],
   "source": [
    "v_nutri.loc['SOR-04420'][v_nutri.loc['SOR-04420']> 0].sort_values(ascending= False)"
   ]
  },
  {
   "cell_type": "code",
   "execution_count": 167,
   "metadata": {},
   "outputs": [
    {
     "data": {
      "text/plain": [
       "Vitamin_C    0.950000\n",
       "Magnesium    0.102778\n",
       "Calcium      0.025000\n",
       "Name: SOR-04421, dtype: float64"
      ]
     },
     "execution_count": 167,
     "metadata": {},
     "output_type": "execute_result"
    }
   ],
   "source": [
    "v_nutri_ratio.loc['SOR-04421'][v_nutri_ratio.loc['SOR-04421']> 0].sort_values(ascending= False)"
   ]
  },
  {
   "cell_type": "code",
   "execution_count": 168,
   "metadata": {},
   "outputs": [
    {
     "data": {
      "text/plain": [
       "Vitamin_C    95.0\n",
       "Magnesium    37.0\n",
       "Calcium      20.0\n",
       "Name: SOR-04421, dtype: float64"
      ]
     },
     "execution_count": 168,
     "metadata": {},
     "output_type": "execute_result"
    }
   ],
   "source": [
    "v_nutri.loc['SOR-04421'][v_nutri.loc['SOR-04421']> 0].sort_values(ascending= False)"
   ]
  },
  {
   "cell_type": "code",
   "execution_count": 169,
   "metadata": {},
   "outputs": [
    {
     "data": {
      "text/plain": [
       "Vitamin_C    0.9\n",
       "Name: MRO-47134, dtype: float64"
      ]
     },
     "execution_count": 169,
     "metadata": {},
     "output_type": "execute_result"
    }
   ],
   "source": [
    "v_nutri_ratio.loc['MRO-47134'][v_nutri_ratio.loc['MRO-47134']> 0].sort_values(ascending= False)"
   ]
  },
  {
   "cell_type": "code",
   "execution_count": 170,
   "metadata": {},
   "outputs": [
    {
     "data": {
      "text/plain": [
       "Vitamin_C    90.0\n",
       "Name: MRO-47134, dtype: float64"
      ]
     },
     "execution_count": 170,
     "metadata": {},
     "output_type": "execute_result"
    }
   ],
   "source": [
    "v_nutri.loc['MRO-47134'][v_nutri.loc['MRO-47134']> 0].sort_values(ascending= False)"
   ]
  },
  {
   "cell_type": "code",
   "execution_count": 171,
   "metadata": {},
   "outputs": [
    {
     "data": {
      "text/plain": [
       "prod_cd\n",
       "SOR-84663    0.109208\n",
       "SOR-04421    0.108776\n",
       "SOR-04420    0.108776\n",
       "Name: similarity, dtype: float64"
      ]
     },
     "execution_count": 171,
     "metadata": {},
     "output_type": "execute_result"
    }
   ],
   "source": [
    "v_similarity_top3['similarity']"
   ]
  },
  {
   "cell_type": "code",
   "execution_count": 172,
   "metadata": {},
   "outputs": [
    {
     "data": {
      "text/plain": [
       "Vitamin_C    0.25000\n",
       "Calcium      0.03125\n",
       "Name: SOR-84663, dtype: float64"
      ]
     },
     "execution_count": 172,
     "metadata": {},
     "output_type": "execute_result"
    }
   ],
   "source": [
    "v_nutri_ratio.loc['SOR-84663'][v_nutri_ratio.loc['SOR-84663']> 0].sort_values(ascending= False)"
   ]
  },
  {
   "cell_type": "code",
   "execution_count": 173,
   "metadata": {},
   "outputs": [
    {
     "data": {
      "text/plain": [
       "Calcium      25.0\n",
       "Vitamin_C    25.0\n",
       "Name: SOR-84663, dtype: float64"
      ]
     },
     "execution_count": 173,
     "metadata": {},
     "output_type": "execute_result"
    }
   ],
   "source": [
    "v_nutri.loc['SOR-84663'][v_nutri.loc['SOR-84663']> 0].sort_values(ascending= False)"
   ]
  },
  {
   "cell_type": "markdown",
   "metadata": {},
   "source": [
    "#### 아미노산"
   ]
  },
  {
   "cell_type": "code",
   "execution_count": 174,
   "metadata": {},
   "outputs": [
    {
     "data": {
      "text/plain": [
       "prod_cd\n",
       "DSA-20142    66.257420\n",
       "NOB-27429    66.456439\n",
       "NFS-02805    66.478920\n",
       "dtype: float64"
      ]
     },
     "execution_count": 174,
     "metadata": {},
     "output_type": "execute_result"
    }
   ],
   "source": [
    "a_ratio_top3"
   ]
  },
  {
   "cell_type": "code",
   "execution_count": 175,
   "metadata": {},
   "outputs": [
    {
     "data": {
      "text/plain": [
       "Vitamin_C    0.5\n",
       "Name: DSA-20142, dtype: float64"
      ]
     },
     "execution_count": 175,
     "metadata": {},
     "output_type": "execute_result"
    }
   ],
   "source": [
    "a_nutri_ratio.loc['DSA-20142'][a_nutri_ratio.loc['DSA-20142']> 0].sort_values(ascending= False)"
   ]
  },
  {
   "cell_type": "code",
   "execution_count": 176,
   "metadata": {},
   "outputs": [
    {
     "data": {
      "text/plain": [
       "Vitamin_C    50.0\n",
       "Name: DSA-20142, dtype: float64"
      ]
     },
     "execution_count": 176,
     "metadata": {},
     "output_type": "execute_result"
    }
   ],
   "source": [
    "a_nutri.loc['DSA-20142'][a_nutri.loc['DSA-20142']> 0].sort_values(ascending= False)"
   ]
  },
  {
   "cell_type": "code",
   "execution_count": 177,
   "metadata": {},
   "outputs": [
    {
     "data": {
      "text/plain": [
       "Calcium    0.4125\n",
       "Name: NOB-27429, dtype: float64"
      ]
     },
     "execution_count": 177,
     "metadata": {},
     "output_type": "execute_result"
    }
   ],
   "source": [
    "a_nutri_ratio.loc['NOB-27429'][a_nutri_ratio.loc['NOB-27429']> 0].sort_values(ascending= False)"
   ]
  },
  {
   "cell_type": "code",
   "execution_count": 178,
   "metadata": {},
   "outputs": [
    {
     "data": {
      "text/plain": [
       "Calcium    330.0\n",
       "Name: NOB-27429, dtype: float64"
      ]
     },
     "execution_count": 178,
     "metadata": {},
     "output_type": "execute_result"
    }
   ],
   "source": [
    "a_nutri.loc['NOB-27429'][a_nutri.loc['NOB-27429']> 0].sort_values(ascending= False)"
   ]
  },
  {
   "cell_type": "code",
   "execution_count": 179,
   "metadata": {},
   "outputs": [
    {
     "data": {
      "text/plain": [
       "Vitamin_C    0.25\n",
       "Name: NFS-02805, dtype: float64"
      ]
     },
     "execution_count": 179,
     "metadata": {},
     "output_type": "execute_result"
    }
   ],
   "source": [
    "a_nutri_ratio.loc['NFS-02805'][a_nutri_ratio.loc['NFS-02805']> 0].sort_values(ascending= False)"
   ]
  },
  {
   "cell_type": "code",
   "execution_count": 180,
   "metadata": {},
   "outputs": [
    {
     "data": {
      "text/plain": [
       "Vitamin_C    25.0\n",
       "Name: NFS-02805, dtype: float64"
      ]
     },
     "execution_count": 180,
     "metadata": {},
     "output_type": "execute_result"
    }
   ],
   "source": [
    "a_nutri.loc['NFS-02805'][a_nutri.loc['NFS-02805']> 0].sort_values(ascending= False)"
   ]
  },
  {
   "cell_type": "code",
   "execution_count": 181,
   "metadata": {},
   "outputs": [
    {
     "data": {
      "text/plain": [
       "prod_cd\n",
       "KIM-02074    0.103488\n",
       "SNS-00758    0.100420\n",
       "LEX-16242    0.100065\n",
       "Name: similarity, dtype: float64"
      ]
     },
     "execution_count": 181,
     "metadata": {},
     "output_type": "execute_result"
    }
   ],
   "source": [
    "a_similarity_top3['similarity']"
   ]
  },
  {
   "cell_type": "code",
   "execution_count": 182,
   "metadata": {},
   "outputs": [
    {
     "data": {
      "text/plain": [
       "Magnesium    0.027778\n",
       "Calcium      0.025000\n",
       "Name: KIM-02074, dtype: float64"
      ]
     },
     "execution_count": 182,
     "metadata": {},
     "output_type": "execute_result"
    }
   ],
   "source": [
    "a_nutri_ratio.loc['KIM-02074'][a_nutri_ratio.loc['KIM-02074']> 0].sort_values(ascending= False)"
   ]
  },
  {
   "cell_type": "code",
   "execution_count": 183,
   "metadata": {},
   "outputs": [
    {
     "data": {
      "text/plain": [
       "Calcium      20.0\n",
       "Magnesium    10.0\n",
       "Name: KIM-02074, dtype: float64"
      ]
     },
     "execution_count": 183,
     "metadata": {},
     "output_type": "execute_result"
    }
   ],
   "source": [
    "a_nutri.loc['KIM-02074'][a_nutri.loc['KIM-02074']> 0].sort_values(ascending= False)"
   ]
  },
  {
   "cell_type": "code",
   "execution_count": 184,
   "metadata": {},
   "outputs": [
    {
     "data": {
      "text/plain": [
       "Vitamin_C    10.000000\n",
       "Lysine        0.354839\n",
       "Magnesium     0.127778\n",
       "Calcium       0.082500\n",
       "Name: SNS-00758, dtype: float64"
      ]
     },
     "execution_count": 184,
     "metadata": {},
     "output_type": "execute_result"
    }
   ],
   "source": [
    "a_nutri_ratio.loc['SNS-00758'][a_nutri_ratio.loc['SNS-00758']> 0].sort_values(ascending= False)"
   ]
  },
  {
   "cell_type": "code",
   "execution_count": 185,
   "metadata": {},
   "outputs": [
    {
     "data": {
      "text/plain": [
       "Lysine       1100.0\n",
       "Vitamin_C    1000.0\n",
       "Calcium        66.0\n",
       "Magnesium      46.0\n",
       "Name: SNS-00758, dtype: float64"
      ]
     },
     "execution_count": 185,
     "metadata": {},
     "output_type": "execute_result"
    }
   ],
   "source": [
    "a_nutri.loc['SNS-00758'][a_nutri.loc['SNS-00758']> 0].sort_values(ascending= False)"
   ]
  },
  {
   "cell_type": "code",
   "execution_count": 186,
   "metadata": {},
   "outputs": [
    {
     "data": {
      "text/plain": [
       "Vitamin_C    0.1\n",
       "Name: LEX-16242, dtype: float64"
      ]
     },
     "execution_count": 186,
     "metadata": {},
     "output_type": "execute_result"
    }
   ],
   "source": [
    "a_nutri_ratio.loc['LEX-16242'][a_nutri_ratio.loc['LEX-16242']> 0].sort_values(ascending= False)"
   ]
  },
  {
   "cell_type": "code",
   "execution_count": 187,
   "metadata": {},
   "outputs": [
    {
     "data": {
      "text/plain": [
       "Vitamin_C    10.0\n",
       "Name: LEX-16242, dtype: float64"
      ]
     },
     "execution_count": 187,
     "metadata": {},
     "output_type": "execute_result"
    }
   ],
   "source": [
    "a_nutri.loc['LEX-16242'][a_nutri.loc['LEX-16242']> 0].sort_values(ascending= False)"
   ]
  },
  {
   "cell_type": "code",
   "execution_count": null,
   "metadata": {},
   "outputs": [],
   "source": []
  },
  {
   "cell_type": "code",
   "execution_count": null,
   "metadata": {},
   "outputs": [],
   "source": []
  }
 ],
 "metadata": {
  "interpreter": {
   "hash": "b0fa6594d8f4cbf19f97940f81e996739fb7646882a419484c72d19e05852a7e"
  },
  "kernelspec": {
   "display_name": "Python 3.9.10 64-bit",
   "language": "python",
   "name": "python3"
  },
  "language_info": {
   "codemirror_mode": {
    "name": "ipython",
    "version": 3
   },
   "file_extension": ".py",
   "mimetype": "text/x-python",
   "name": "python",
   "nbconvert_exporter": "python",
   "pygments_lexer": "ipython3",
   "version": "3.9.10"
  },
  "orig_nbformat": 4
 },
 "nbformat": 4,
 "nbformat_minor": 2
}
